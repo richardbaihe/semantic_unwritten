{
 "cells": [
  {
   "cell_type": "code",
   "execution_count": 1,
   "metadata": {},
   "outputs": [
    {
     "ename": "ModuleNotFoundError",
     "evalue": "No module named 'transformers'",
     "output_type": "error",
     "traceback": [
      "\u001b[0;31m---------------------------------------------------------------------------\u001b[0m",
      "\u001b[0;31mModuleNotFoundError\u001b[0m                       Traceback (most recent call last)",
      "\u001b[0;32m<ipython-input-1-157d09499abd>\u001b[0m in \u001b[0;36m<module>\u001b[0;34m\u001b[0m\n\u001b[1;32m      9\u001b[0m \u001b[0;32mimport\u001b[0m \u001b[0mnumpy\u001b[0m \u001b[0;32mas\u001b[0m \u001b[0mnp\u001b[0m\u001b[0;34m\u001b[0m\u001b[0;34m\u001b[0m\u001b[0m\n\u001b[1;32m     10\u001b[0m \u001b[0;34m\u001b[0m\u001b[0m\n\u001b[0;32m---> 11\u001b[0;31m \u001b[0;32mfrom\u001b[0m \u001b[0mtransformers\u001b[0m \u001b[0;32mimport\u001b[0m \u001b[0mGroverLMHeadModel\u001b[0m\u001b[0;34m,\u001b[0m \u001b[0mGroverTokenizer\u001b[0m\u001b[0;34m\u001b[0m\u001b[0;34m\u001b[0m\u001b[0m\n\u001b[0m",
      "\u001b[0;31mModuleNotFoundError\u001b[0m: No module named 'transformers'"
     ]
    }
   ],
   "source": [
    "from __future__ import absolute_import, division, print_function, unicode_literals\n",
    "\n",
    "import warnings\n",
    "warnings.filterwarnings('ignore')\n",
    "import argparse\n",
    "import logging\n",
    "import os\n",
    "import torch\n",
    "import numpy as np\n",
    "\n",
    "from transformers import GroverLMHeadModel, GroverTokenizer"
   ]
  },
  {
   "cell_type": "code",
   "execution_count": 8,
   "metadata": {},
   "outputs": [],
   "source": [
    "os.environ[\"CUDA_VISIBLE_DEVICES\"]='0'"
   ]
  },
  {
   "cell_type": "code",
   "execution_count": 9,
   "metadata": {},
   "outputs": [],
   "source": [
    "n_gpu = torch.cuda.device_count()\n",
    "np.random.seed(42)\n",
    "torch.manual_seed(42)\n",
    "torch.cuda.manual_seed_all(42)\n",
    "\n",
    "device = torch.device(\n",
    "        \"cuda\" if torch.cuda.is_available() else \"cpu\")\n",
    "tokenizer = GroverTokenizer.from_pretrained('/data/baihe/checkpoints/ctyh/')\n",
    "model = GroverLMHeadModel.from_pretrained('/data/baihe/checkpoints/ctyh/')\n",
    "\n",
    "\n",
    "model.to(device)\n"
   ]
  },
  {
   "cell_type": "code",
   "execution_count": 18,
   "metadata": {},
   "outputs": [],
   "source": [
    "prompt_text = \"胡御史牧亭言，\"\n",
    "encoded_prompt = tokenizer.encode(prompt_text, add_special_tokens=False, return_tensors='pt')\n",
    "#encoded_prompt = torch.unsqueeze(torch.tensor(encoded_prompt), 0)\n",
    "encoded_prompt = encoded_prompt.to(device)"
   ]
  },
  {
   "cell_type": "code",
   "execution_count": 21,
   "metadata": {},
   "outputs": [],
   "source": [
    "output_sequences = model.generate(\n",
    "  input_ids=encoded_prompt,\n",
    "  max_length=128,\n",
    "  temperature=1,\n",
    "  top_k=0,\n",
    "  top_p=0.9,\n",
    "  repetition_penalty=1,\n",
    ")\n",
    "\n"
   ]
  },
  {
   "cell_type": "code",
   "execution_count": 23,
   "metadata": {},
   "outputs": [
    {
     "name": "stdout",
     "output_type": "stream",
     "text": [
      "胡 御 史 牧 亭 言 ， 其 乡 有 人 畜 一 牛 ， 见 邻 叟 辄 触 其 尾 ， 呼 之 不 应 ， 视 之 亦 不 起 。 一 日 ， 其 家 失 火 ， 家 人 请 于 神 前 ， 祈 祷 无 应 者 ， 乃 请 于 神 前 ， 神 示 以 神 迹 ， 曰 ： 此 牛 可 以 为 人 食 ， 但 不 可 以 为 人 宰 割 。 人 固 请 之 不 得 ， 俄 而 其 家 大 为 焚 毁 ， 乃 知 神 迹 之 所 在 矣 。 牧 亭 尝 举 以 告 人 曰 ： 凡 遇 神 迹 ， 必 自 [PAD\n"
     ]
    }
   ],
   "source": [
    "# Batch size == 1. to add more examples please use num_return_sequences > 1\n",
    "generated_sequence = output_sequences[0].tolist()\n",
    "text = tokenizer.decode(generated_sequence, clean_up_tokenization_spaces=True)\n",
    "text = text[: text.find('[CLS]')]\n",
    "\n",
    "print(text)\n",
    "\n"
   ]
  },
  {
   "cell_type": "code",
   "execution_count": null,
   "metadata": {},
   "outputs": [],
   "source": []
  }
 ],
 "metadata": {
  "kernelspec": {
   "display_name": "Python 3",
   "language": "python",
   "name": "python3"
  },
  "language_info": {
   "codemirror_mode": {
    "name": "ipython",
    "version": 3
   },
   "file_extension": ".py",
   "mimetype": "text/x-python",
   "name": "python",
   "nbconvert_exporter": "python",
   "pygments_lexer": "ipython3",
   "version": "3.7.4"
  }
 },
 "nbformat": 4,
 "nbformat_minor": 2
}
